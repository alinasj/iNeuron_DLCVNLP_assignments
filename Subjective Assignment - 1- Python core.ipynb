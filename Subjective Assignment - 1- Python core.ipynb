{
 "cells": [
  {
   "cell_type": "markdown",
   "metadata": {},
   "source": [
    "Q1. Write a Python program to get the string from the given string where\n",
    "all the occurrence of its first char has been changed to '$,' except first\n",
    "char itself?\n",
    "\n",
    "    Sample String: 'prospect'\n",
    "    Expected Result : 'pros$ect'\n"
   ]
  },
  {
   "cell_type": "code",
   "execution_count": 371,
   "metadata": {},
   "outputs": [
    {
     "name": "stdout",
     "output_type": "stream",
     "text": [
      "pros$ect\n"
     ]
    }
   ],
   "source": [
    "def first_occurrence(text):\n",
    "    print(text[0] + text[1:].replace(text[0], \"$\"))\n",
    "\n",
    "text = \"prospect\"\n",
    "first_occurrence(text)"
   ]
  },
  {
   "cell_type": "markdown",
   "metadata": {},
   "source": [
    "Q2. Write a Python program to get the single string from the two given\n",
    "strings, and separated by the space and swap the first two characters of\n",
    "each string?\n",
    "\n",
    "    Sample String : 'abc', 'xyz'.\n",
    "    Expected Result: 'xyc abz'"
   ]
  },
  {
   "cell_type": "code",
   "execution_count": 372,
   "metadata": {},
   "outputs": [
    {
     "name": "stdout",
     "output_type": "stream",
     "text": [
      "xycd abzd\n"
     ]
    }
   ],
   "source": [
    "def swap_firsttwochar(text1, text2):\n",
    "    print(text2[:2]+text1[2:]+\" \"+text1[:2]+text2[2:])\n",
    "\n",
    "text1 = \"abcd\"\n",
    "text2 = \"xyzd\"\n",
    "swap_firsttwochar(text1, text2)"
   ]
  },
  {
   "cell_type": "markdown",
   "metadata": {},
   "source": [
    "Q3. Write the Python program to add 'ing' at the end of the given string\n",
    "(length of the string should be at least 3). If given string already ends\n",
    "with 'ing,' then add 'ly' instead. If string length of the given string is less\n",
    "than 3, leave it unchanged?\n",
    "\n",
    "\n",
    "    Sample string: ' abc '\n",
    "    Expected result: ' abcing '\n",
    "    Sample string: ' string '\n",
    "    Expected result: ' stringly '\n"
   ]
  },
  {
   "cell_type": "code",
   "execution_count": 373,
   "metadata": {},
   "outputs": [
    {
     "name": "stdout",
     "output_type": "stream",
     "text": [
      "abcing\n",
      "stringly\n"
     ]
    }
   ],
   "source": [
    "def text_augmentation(text):\n",
    "    if len(text)>=3:\n",
    "        if text[-3:]==\"ing\": print(text+\"ly\")\n",
    "        else: print(text+\"ing\")\n",
    "    else:\n",
    "        print(\"string is less than 3 char\")\n",
    "\n",
    "text = \"abc\"\n",
    "text_augmentation(text)\n",
    "text = \"string\"\n",
    "text_augmentation(text)"
   ]
  },
  {
   "cell_type": "markdown",
   "metadata": {},
   "source": [
    "Q4. Write the Python program to find the first appearance of the\n",
    "substring 'not' and 'poor' from the given string, if 'not' follows the 'poor',\n",
    "replace the whole 'not'...' poor' substring with 'good'.Return the resulting\n",
    "string.\n",
    "\n",
    "    Sample string: 'The lyrics are not that poor!'\n",
    "    'The lyrics are poor!'\n",
    "    Expected Result: 'The lyrics are good!'\n",
    "    'The lyrics are poor!'"
   ]
  },
  {
   "cell_type": "code",
   "execution_count": 374,
   "metadata": {
    "scrolled": true
   },
   "outputs": [
    {
     "name": "stdout",
     "output_type": "stream",
     "text": [
      "Please pass a string with substring 'not' or 'poor'\n",
      "The lyrics are poor but not too shabby\n",
      "The lyrics are good!\n",
      "The lyrics are poor!\n"
     ]
    }
   ],
   "source": [
    "def string_manupilation(text):\n",
    "    not_spot = text.find('not')\n",
    "    poor_spot =text.find('poor')\n",
    "\n",
    "    if not_spot == -1 and poor_spot == -1:\n",
    "        print(\"Please pass a string with substring 'not' or 'poor'\")\n",
    "    elif not_spot == -1 or poor_spot == -1 or not_spot>poor_spot:\n",
    "        print(text)\n",
    "    else:\n",
    "        if not_spot<poor_spot:\n",
    "            print(text.replace(text[not_spot:poor_spot+4],\"good\"))\n",
    "\n",
    "\n",
    "text = \"The lyrics are ok\"\n",
    "string_manupilation(text)\n",
    "text = \"The lyrics are poor but not too shabby\"\n",
    "string_manupilation(text) \n",
    "text = \"The lyrics are not that poor!\"\n",
    "string_manupilation(text)\n",
    "text = \"The lyrics are poor!\"\n",
    "string_manupilation(text)"
   ]
  },
  {
   "cell_type": "markdown",
   "metadata": {},
   "source": [
    "Q5. Write the Python program to remove the characters which have odd\n",
    "index values of a given string."
   ]
  },
  {
   "cell_type": "code",
   "execution_count": 375,
   "metadata": {},
   "outputs": [
    {
     "name": "stdout",
     "output_type": "stream",
     "text": [
      "Telrc r or\n"
     ]
    }
   ],
   "source": [
    "print(text[::2])"
   ]
  },
  {
   "cell_type": "markdown",
   "metadata": {},
   "source": [
    "Q6. Write the python program to print the following floating numbers up\n",
    "to 2 decimal places?"
   ]
  },
  {
   "cell_type": "code",
   "execution_count": 376,
   "metadata": {},
   "outputs": [
    {
     "name": "stdout",
     "output_type": "stream",
     "text": [
      "12312.12\n"
     ]
    }
   ],
   "source": [
    "x = 12312.1231313\n",
    "print(\"{:.2f}\".format(x))"
   ]
  },
  {
   "cell_type": "markdown",
   "metadata": {},
   "source": [
    "Q7. Write the Python program to format a number with a percentage?"
   ]
  },
  {
   "cell_type": "code",
   "execution_count": 377,
   "metadata": {},
   "outputs": [
    {
     "name": "stdout",
     "output_type": "stream",
     "text": [
      "12312%\n",
      "123123.23423%\n",
      "12321312%\n"
     ]
    }
   ],
   "source": [
    "def percentage_text(text):\n",
    "    if isinstance(text, int) or isinstance(text, float):\n",
    "        print(\"{}%\".format(text))\n",
    "    elif text.isdigit():\n",
    "        print(text + \"%\")\n",
    "    else:\n",
    "        pass\n",
    "\n",
    "text = 12312\n",
    "percentage_text(text)\n",
    "text = 123123.23423\n",
    "percentage_text(text)\n",
    "text = \"12321312\"\n",
    "percentage_text(text)\n",
    "text = \"23432sdfgadf\"\n",
    "percentage_text(text)"
   ]
  },
  {
   "cell_type": "markdown",
   "metadata": {},
   "source": [
    "Q8. Write the Python program to count occurrences of a substring in a\n",
    "String?"
   ]
  },
  {
   "cell_type": "code",
   "execution_count": 378,
   "metadata": {},
   "outputs": [
    {
     "name": "stdout",
     "output_type": "stream",
     "text": [
      "16\n"
     ]
    }
   ],
   "source": [
    "from nltk.tokenize import word_tokenize \n",
    "\n",
    "def text_in_text(text, sub_string):\n",
    "    text = text.lower()\n",
    "    sub_string = sub_string.lower()\n",
    "    count = 0\n",
    "    for word in word_tokenize(text):\n",
    "        if word == sub_string:\n",
    "            count+=1\n",
    "    print(count)\n",
    "\n",
    "dojocat_lyrics = \"I keep it juicy juicy, I eat that lunch (yeah), She keep that booty booty, she keep that plump (yeah yeah), That natural beauty beauty, yeah, yeah, If you could see it from the front, wait 'til you see it from the, Back, back, back, back, back (wait 'til you see it from the), Back, back, yeah, back, back, back (wait 'til you see it from the), Back, back, back, back, back (wait 'til you see it from the), If you could see it from the front, wait 'til you see it from the back\"\n",
    "text_in_text(dojocat_lyrics, \"back\")"
   ]
  },
  {
   "cell_type": "markdown",
   "metadata": {},
   "source": [
    "Q9. Write the Python program to count repeated characters in a string.\n",
    "\n",
    "    Sample string: ' thequickbrownjumpsoverthelazydog '\n",
    "    \n",
    "    Expected output:\n",
    "    o 3\n",
    "    e 3\n",
    "    u 2\n",
    "    h 2\n",
    "    r 2\n",
    "    t 2"
   ]
  },
  {
   "cell_type": "code",
   "execution_count": 379,
   "metadata": {},
   "outputs": [
    {
     "name": "stdout",
     "output_type": "stream",
     "text": [
      "t 2\n",
      "h 2\n",
      "e 3\n",
      "u 2\n",
      "r 2\n",
      "o 3\n"
     ]
    }
   ],
   "source": [
    "def count_char(text):\n",
    "    dict_word = {}\n",
    "    for t in text:\n",
    "        if t == \" \":\n",
    "            pass\n",
    "        elif t in dict_word.keys():\n",
    "            count = dict_word[t]\n",
    "            dict_word[t]= count+1\n",
    "        else: \n",
    "            dict_word[t] = 1\n",
    "\n",
    "    for i in dict_word.keys():\n",
    "        if dict_word[i]>1:\n",
    "            print(\"{} {}\".format(i, dict_word[i]))\n",
    "\n",
    "text = ' thequickbrownjumpsoverthelazydog '\n",
    "count_char(text)"
   ]
  },
  {
   "cell_type": "markdown",
   "metadata": {},
   "source": [
    "Q10. Write the Python program to print the square and cube symbol in\n",
    "the area of a rectangle and volume of a cylinder?\n",
    "\n",
    "    Sample outputThe area of the rectangle is 1256.66cm2\n",
    "    The volume of the cylinder is 1254.725cm3\n"
   ]
  },
  {
   "cell_type": "code",
   "execution_count": 380,
   "metadata": {},
   "outputs": [
    {
     "name": "stdout",
     "output_type": "stream",
     "text": [
      "The area of the rectangle is 1256.66cm2\n",
      "The volume of the cylinder is 1254.725cm3\n"
     ]
    }
   ],
   "source": [
    "def string_aug(text):\n",
    "    if \"rectangle\" in text:\n",
    "        print(text+\"cm2\")\n",
    "    elif \"cylinder\" in text:\n",
    "        print(text+\"cm3\")\n",
    "    else:\n",
    "        pass\n",
    "\n",
    "text = \"The area of the rectangle is 1256.66\"\n",
    "string_aug(text)\n",
    "text = \"The volume of the cylinder is 1254.725\"\n",
    "string_aug(text)\n"
   ]
  },
  {
   "cell_type": "markdown",
   "metadata": {},
   "source": [
    "Q11. Write the Python program to check if a string contains all letters of\n",
    "the alphabet?"
   ]
  },
  {
   "cell_type": "code",
   "execution_count": 381,
   "metadata": {},
   "outputs": [
    {
     "name": "stdout",
     "output_type": "stream",
     "text": [
      "all letters of alphabet are present\n"
     ]
    }
   ],
   "source": [
    "import string\n",
    "\n",
    "def check_alph(text):\n",
    "    alph = set(string.ascii_lowercase)\n",
    "    return set(text.lower()) >= alph\n",
    "\n",
    "text = \"We promptly judged antique ivory buckles for the next prize\"\n",
    "if check_alph(text):\n",
    "    print(\"all letters of alphabet are present\")\n",
    "else:\n",
    "    print(\"not all letters of alphabet are present\")\n"
   ]
  },
  {
   "cell_type": "markdown",
   "metadata": {},
   "source": [
    "Q12. Write the Python program to find the second most repeated word\n",
    "in a given string?"
   ]
  },
  {
   "cell_type": "code",
   "execution_count": 382,
   "metadata": {},
   "outputs": [
    {
     "name": "stdout",
     "output_type": "stream",
     "text": [
      "'it' is repeated 8 times\n"
     ]
    }
   ],
   "source": [
    "from nltk.tokenize import word_tokenize \n",
    "\n",
    "def count_words(text):\n",
    "    dict_word = {}\n",
    "    first = 0\n",
    "    first_key = \"\"\n",
    "    text = word_tokenize(text.lower())\n",
    "    punctuations = '''!()-[]{};:'\"\\,<>./?@#$%^&*_~'''\n",
    "    for t in text:\n",
    "        if t in punctuations:\n",
    "            pass\n",
    "        elif t in dict_word.keys():\n",
    "            count = dict_word[t]\n",
    "            dict_word[t]= count+1\n",
    "            if (dict_word[t] > first) and (t != first_key):\n",
    "                second = first\n",
    "                second_key = first_key\n",
    "                first = dict_word[t]\n",
    "                first_key = t\n",
    "        else: \n",
    "            dict_word[t] = 1\n",
    "    second = dict_word[second_key]\n",
    "    for i in dict_word.keys():\n",
    "        if dict_word[i]==second:\n",
    "            print(\"'{}' is repeated {} times\".format(i, dict_word[i]))\n",
    "    \n",
    "dojocat_lyrics = \"I keep it juicy juicy, I eat that lunch (yeah), She keep that booty booty, she keep that plump (yeah yeah), That natural beauty beauty, yeah, yeah, If you could see it from the front, wait 'til you see it from the, Back, back, back, back, back (wait 'til you see it from the), Back, back, yeah, back, back, back (wait 'til you see it from the), Back, back, back, back, back (wait 'til you see it from the), If you could see it from the front, wait 'til you see it from the back\"\n",
    "count_words(dojocat_lyrics)\n"
   ]
  },
  {
   "cell_type": "markdown",
   "metadata": {},
   "source": [
    "Q13. Write the Python program to find the minimum window in the given\n",
    "string, which will contains all the characters of another given\n",
    "strings?\n",
    "\n",
    "    Example 1\n",
    "    Input : string1 = \" PRWSOERIUSFK \"\n",
    "    string2 = \" OSU \"\n",
    "    Output: Minimum window is \"OERIUS\""
   ]
  },
  {
   "cell_type": "code",
   "execution_count": 383,
   "metadata": {},
   "outputs": [
    {
     "name": "stdout",
     "output_type": "stream",
     "text": [
      "O\n",
      "5\n",
      "S\n",
      "4\n",
      "U\n",
      "11\n",
      "SOERIOSU\n",
      "4 11\n"
     ]
    }
   ],
   "source": [
    "text = \" PRWSOERIOSUURRSFFK \"\n",
    "string2 = \" OSU \"\n",
    "\n",
    "start_index = len(text)\n",
    "end_index = 0\n",
    "for i in string2:\n",
    "    if i == \" \":\n",
    "        pass\n",
    "    else:\n",
    "        print (i)\n",
    "        index = text.find(i)\n",
    "        print(index)\n",
    "        if index < start_index:\n",
    "            start_index = index\n",
    "        if index > end_index:\n",
    "            end_index = index\n",
    "print(text[start_index:end_index+1])\n",
    "print(start_index, end_index)\n"
   ]
  },
  {
   "cell_type": "markdown",
   "metadata": {},
   "source": [
    "Q14. Write the Python program to count number of substrings from a\n",
    "given string of lowercase alphabets with exactly k distinct (given)\n",
    "characters?\n",
    "\n",
    "    Input a string (lowercase alphabets): wolf\n",
    "    Input k: 4\n",
    "    Number of substrings with exactly 4 distinct characters: 1"
   ]
  },
  {
   "cell_type": "code",
   "execution_count": 384,
   "metadata": {},
   "outputs": [
    {
     "name": "stdout",
     "output_type": "stream",
     "text": [
      "Number of substrings with exactly 4 distinct characters: 3\n"
     ]
    }
   ],
   "source": [
    "def count_input(text, input_t):\n",
    "    text = word_tokenize(text.lower())\n",
    "    punctuations = '''!()-[]{};:'\"\\,<>./?@#$%^&*_~'''\n",
    "    count = 0\n",
    "    for t in text:\n",
    "        if t in punctuations:\n",
    "            pass\n",
    "        else:\n",
    "            if input_t == len(list(set(t))):\n",
    "                count+=1\n",
    "    print(\"Number of substrings with exactly {} distinct characters: {}\".format(input_t, count))\n",
    "\n",
    "text = \"wolf wolf toy boys\"\n",
    "input_t = 4\n",
    "count_input(text, input_t)"
   ]
  },
  {
   "cell_type": "markdown",
   "metadata": {},
   "source": [
    "Q15. Write the Python program to count number of substrings with same\n",
    "first and last characters of the given string?\n",
    "\n",
    "    Input a string: abcd\n",
    "    4\n"
   ]
  },
  {
   "cell_type": "code",
   "execution_count": 99,
   "metadata": {},
   "outputs": [
    {
     "name": "stdout",
     "output_type": "stream",
     "text": [
      "4\n",
      "4\n"
     ]
    }
   ],
   "source": [
    "text = \"abcd\"\n",
    "#example 1\n",
    "print(len(text))\n",
    "\n",
    "#example 2\n",
    "i =0\n",
    "for t in text:\n",
    "    i+=1\n",
    "print(i)\n",
    "\n",
    "\n"
   ]
  },
  {
   "cell_type": "markdown",
   "metadata": {},
   "source": [
    "## Great Job!"
   ]
  }
 ],
 "metadata": {
  "kernelspec": {
   "display_name": "Python 3",
   "language": "python",
   "name": "python3"
  },
  "language_info": {
   "codemirror_mode": {
    "name": "ipython",
    "version": 3
   },
   "file_extension": ".py",
   "mimetype": "text/x-python",
   "name": "python",
   "nbconvert_exporter": "python",
   "pygments_lexer": "ipython3",
   "version": "3.7.6"
  }
 },
 "nbformat": 4,
 "nbformat_minor": 2
}
